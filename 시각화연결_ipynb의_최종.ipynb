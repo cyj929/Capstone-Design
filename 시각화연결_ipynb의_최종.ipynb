{
  "cells": [
    {
      "cell_type": "code",
      "execution_count": null,
      "metadata": {
        "colab": {
          "base_uri": "https://localhost:8080/"
        },
        "id": "8eAyViymT4ZY",
        "outputId": "aaff0e4b-40b1-49d9-f3bb-2b75a0fb8d90"
      },
      "outputs": [
        {
          "output_type": "stream",
          "name": "stdout",
          "text": [
            "Requirement already satisfied: ultralytics in /usr/local/lib/python3.10/dist-packages (8.3.48)\n",
            "Requirement already satisfied: numpy>=1.23.0 in /usr/local/lib/python3.10/dist-packages (from ultralytics) (1.26.4)\n",
            "Requirement already satisfied: matplotlib>=3.3.0 in /usr/local/lib/python3.10/dist-packages (from ultralytics) (3.8.0)\n",
            "Requirement already satisfied: opencv-python>=4.6.0 in /usr/local/lib/python3.10/dist-packages (from ultralytics) (4.10.0.84)\n",
            "Requirement already satisfied: pillow>=7.1.2 in /usr/local/lib/python3.10/dist-packages (from ultralytics) (11.0.0)\n",
            "Requirement already satisfied: pyyaml>=5.3.1 in /usr/local/lib/python3.10/dist-packages (from ultralytics) (6.0.2)\n",
            "Requirement already satisfied: requests>=2.23.0 in /usr/local/lib/python3.10/dist-packages (from ultralytics) (2.32.3)\n",
            "Requirement already satisfied: scipy>=1.4.1 in /usr/local/lib/python3.10/dist-packages (from ultralytics) (1.13.1)\n",
            "Requirement already satisfied: torch>=1.8.0 in /usr/local/lib/python3.10/dist-packages (from ultralytics) (2.5.1+cu121)\n",
            "Requirement already satisfied: torchvision>=0.9.0 in /usr/local/lib/python3.10/dist-packages (from ultralytics) (0.20.1+cu121)\n",
            "Requirement already satisfied: tqdm>=4.64.0 in /usr/local/lib/python3.10/dist-packages (from ultralytics) (4.66.6)\n",
            "Requirement already satisfied: psutil in /usr/local/lib/python3.10/dist-packages (from ultralytics) (5.9.5)\n",
            "Requirement already satisfied: py-cpuinfo in /usr/local/lib/python3.10/dist-packages (from ultralytics) (9.0.0)\n",
            "Requirement already satisfied: pandas>=1.1.4 in /usr/local/lib/python3.10/dist-packages (from ultralytics) (2.2.2)\n",
            "Requirement already satisfied: seaborn>=0.11.0 in /usr/local/lib/python3.10/dist-packages (from ultralytics) (0.13.2)\n",
            "Requirement already satisfied: ultralytics-thop>=2.0.0 in /usr/local/lib/python3.10/dist-packages (from ultralytics) (2.0.13)\n",
            "Requirement already satisfied: contourpy>=1.0.1 in /usr/local/lib/python3.10/dist-packages (from matplotlib>=3.3.0->ultralytics) (1.3.1)\n",
            "Requirement already satisfied: cycler>=0.10 in /usr/local/lib/python3.10/dist-packages (from matplotlib>=3.3.0->ultralytics) (0.12.1)\n",
            "Requirement already satisfied: fonttools>=4.22.0 in /usr/local/lib/python3.10/dist-packages (from matplotlib>=3.3.0->ultralytics) (4.55.1)\n",
            "Requirement already satisfied: kiwisolver>=1.0.1 in /usr/local/lib/python3.10/dist-packages (from matplotlib>=3.3.0->ultralytics) (1.4.7)\n",
            "Requirement already satisfied: packaging>=20.0 in /usr/local/lib/python3.10/dist-packages (from matplotlib>=3.3.0->ultralytics) (24.2)\n",
            "Requirement already satisfied: pyparsing>=2.3.1 in /usr/local/lib/python3.10/dist-packages (from matplotlib>=3.3.0->ultralytics) (3.2.0)\n",
            "Requirement already satisfied: python-dateutil>=2.7 in /usr/local/lib/python3.10/dist-packages (from matplotlib>=3.3.0->ultralytics) (2.8.2)\n",
            "Requirement already satisfied: pytz>=2020.1 in /usr/local/lib/python3.10/dist-packages (from pandas>=1.1.4->ultralytics) (2024.2)\n",
            "Requirement already satisfied: tzdata>=2022.7 in /usr/local/lib/python3.10/dist-packages (from pandas>=1.1.4->ultralytics) (2024.2)\n",
            "Requirement already satisfied: charset-normalizer<4,>=2 in /usr/local/lib/python3.10/dist-packages (from requests>=2.23.0->ultralytics) (3.4.0)\n",
            "Requirement already satisfied: idna<4,>=2.5 in /usr/local/lib/python3.10/dist-packages (from requests>=2.23.0->ultralytics) (3.10)\n",
            "Requirement already satisfied: urllib3<3,>=1.21.1 in /usr/local/lib/python3.10/dist-packages (from requests>=2.23.0->ultralytics) (2.2.3)\n",
            "Requirement already satisfied: certifi>=2017.4.17 in /usr/local/lib/python3.10/dist-packages (from requests>=2.23.0->ultralytics) (2024.8.30)\n",
            "Requirement already satisfied: filelock in /usr/local/lib/python3.10/dist-packages (from torch>=1.8.0->ultralytics) (3.16.1)\n",
            "Requirement already satisfied: typing-extensions>=4.8.0 in /usr/local/lib/python3.10/dist-packages (from torch>=1.8.0->ultralytics) (4.12.2)\n",
            "Requirement already satisfied: networkx in /usr/local/lib/python3.10/dist-packages (from torch>=1.8.0->ultralytics) (3.4.2)\n",
            "Requirement already satisfied: jinja2 in /usr/local/lib/python3.10/dist-packages (from torch>=1.8.0->ultralytics) (3.1.4)\n",
            "Requirement already satisfied: fsspec in /usr/local/lib/python3.10/dist-packages (from torch>=1.8.0->ultralytics) (2024.10.0)\n",
            "Requirement already satisfied: sympy==1.13.1 in /usr/local/lib/python3.10/dist-packages (from torch>=1.8.0->ultralytics) (1.13.1)\n",
            "Requirement already satisfied: mpmath<1.4,>=1.1.0 in /usr/local/lib/python3.10/dist-packages (from sympy==1.13.1->torch>=1.8.0->ultralytics) (1.3.0)\n",
            "Requirement already satisfied: six>=1.5 in /usr/local/lib/python3.10/dist-packages (from python-dateutil>=2.7->matplotlib>=3.3.0->ultralytics) (1.16.0)\n",
            "Requirement already satisfied: MarkupSafe>=2.0 in /usr/local/lib/python3.10/dist-packages (from jinja2->torch>=1.8.0->ultralytics) (3.0.2)\n"
          ]
        }
      ],
      "source": [
        "!pip install ultralytics\n",
        "from ultralytics import YOLO"
      ]
    },
    {
      "cell_type": "code",
      "execution_count": null,
      "metadata": {
        "colab": {
          "base_uri": "https://localhost:8080/"
        },
        "id": "lg1EoDERQChc",
        "outputId": "ff7cd112-35d5-4745-da5d-632d1ac063e1"
      },
      "outputs": [
        {
          "output_type": "stream",
          "name": "stdout",
          "text": [
            "Requirement already satisfied: flask in /usr/local/lib/python3.10/dist-packages (3.0.3)\n",
            "Requirement already satisfied: flask-ngrok in /usr/local/lib/python3.10/dist-packages (0.0.25)\n",
            "Requirement already satisfied: transformers in /usr/local/lib/python3.10/dist-packages (4.46.3)\n",
            "Requirement already satisfied: Werkzeug>=3.0.0 in /usr/local/lib/python3.10/dist-packages (from flask) (3.1.3)\n",
            "Requirement already satisfied: Jinja2>=3.1.2 in /usr/local/lib/python3.10/dist-packages (from flask) (3.1.4)\n",
            "Requirement already satisfied: itsdangerous>=2.1.2 in /usr/local/lib/python3.10/dist-packages (from flask) (2.2.0)\n",
            "Requirement already satisfied: click>=8.1.3 in /usr/local/lib/python3.10/dist-packages (from flask) (8.1.7)\n",
            "Requirement already satisfied: blinker>=1.6.2 in /usr/local/lib/python3.10/dist-packages (from flask) (1.9.0)\n",
            "Requirement already satisfied: requests in /usr/local/lib/python3.10/dist-packages (from flask-ngrok) (2.32.3)\n",
            "Requirement already satisfied: filelock in /usr/local/lib/python3.10/dist-packages (from transformers) (3.16.1)\n",
            "Requirement already satisfied: huggingface-hub<1.0,>=0.23.2 in /usr/local/lib/python3.10/dist-packages (from transformers) (0.26.3)\n",
            "Requirement already satisfied: numpy>=1.17 in /usr/local/lib/python3.10/dist-packages (from transformers) (1.26.4)\n",
            "Requirement already satisfied: packaging>=20.0 in /usr/local/lib/python3.10/dist-packages (from transformers) (24.2)\n",
            "Requirement already satisfied: pyyaml>=5.1 in /usr/local/lib/python3.10/dist-packages (from transformers) (6.0.2)\n",
            "Requirement already satisfied: regex!=2019.12.17 in /usr/local/lib/python3.10/dist-packages (from transformers) (2024.9.11)\n",
            "Requirement already satisfied: tokenizers<0.21,>=0.20 in /usr/local/lib/python3.10/dist-packages (from transformers) (0.20.3)\n",
            "Requirement already satisfied: safetensors>=0.4.1 in /usr/local/lib/python3.10/dist-packages (from transformers) (0.4.5)\n",
            "Requirement already satisfied: tqdm>=4.27 in /usr/local/lib/python3.10/dist-packages (from transformers) (4.66.6)\n",
            "Requirement already satisfied: fsspec>=2023.5.0 in /usr/local/lib/python3.10/dist-packages (from huggingface-hub<1.0,>=0.23.2->transformers) (2024.10.0)\n",
            "Requirement already satisfied: typing-extensions>=3.7.4.3 in /usr/local/lib/python3.10/dist-packages (from huggingface-hub<1.0,>=0.23.2->transformers) (4.12.2)\n",
            "Requirement already satisfied: MarkupSafe>=2.0 in /usr/local/lib/python3.10/dist-packages (from Jinja2>=3.1.2->flask) (3.0.2)\n",
            "Requirement already satisfied: charset-normalizer<4,>=2 in /usr/local/lib/python3.10/dist-packages (from requests->flask-ngrok) (3.4.0)\n",
            "Requirement already satisfied: idna<4,>=2.5 in /usr/local/lib/python3.10/dist-packages (from requests->flask-ngrok) (3.10)\n",
            "Requirement already satisfied: urllib3<3,>=1.21.1 in /usr/local/lib/python3.10/dist-packages (from requests->flask-ngrok) (2.2.3)\n",
            "Requirement already satisfied: certifi>=2017.4.17 in /usr/local/lib/python3.10/dist-packages (from requests->flask-ngrok) (2024.8.30)\n"
          ]
        }
      ],
      "source": [
        "!pip install flask flask-ngrok transformers\n"
      ]
    },
    {
      "cell_type": "code",
      "execution_count": null,
      "metadata": {
        "colab": {
          "base_uri": "https://localhost:8080/"
        },
        "id": "ucxmOprcU4Cw",
        "outputId": "cdb31d21-b222-464d-970f-ca9b89d6e1d0"
      },
      "outputs": [
        {
          "output_type": "stream",
          "name": "stdout",
          "text": [
            "  % Total    % Received % Xferd  Average Speed   Time    Time     Time  Current\n",
            "                                 Dload  Upload   Total   Spent    Left  Speed\n",
            "100 14.1M  100 14.1M    0     0  10.5M      0  0:00:01  0:00:01 --:--:-- 10.5M\n",
            "ngrok\n"
          ]
        }
      ],
      "source": [
        "!curl -O https://bin.equinox.io/c/bNyj1mQVY4c/ngrok-v3-stable-linux-amd64.tgz\n",
        "!tar -xvzf ngrok-v3-stable-linux-amd64.tgz\n"
      ]
    },
    {
      "cell_type": "code",
      "execution_count": null,
      "metadata": {
        "colab": {
          "base_uri": "https://localhost:8080/"
        },
        "id": "5k-pZINtQZg3",
        "outputId": "4a34253d-2710-4823-b451-5be093fceddb"
      },
      "outputs": [
        {
          "output_type": "stream",
          "name": "stdout",
          "text": [
            "Authtoken saved to configuration file: /root/.config/ngrok/ngrok.yml\n"
          ]
        }
      ],
      "source": [
        "!./ngrok config add-authtoken 2pgsaQ2Njsutr07XVkP2GYDlQ17_g4KMiSqYER9oMRcyLZo7\n"
      ]
    },
    {
      "cell_type": "code",
      "execution_count": null,
      "metadata": {
        "colab": {
          "base_uri": "https://localhost:8080/"
        },
        "id": "SyEdAusnVh6W",
        "outputId": "1974071d-454b-414d-bb51-4ef27e4402ae"
      },
      "outputs": [
        {
          "output_type": "stream",
          "name": "stdout",
          "text": [
            "Reading package lists... Done\n",
            "Building dependency tree... Done\n",
            "Reading state information... Done\n",
            "tesseract-ocr is already the newest version (4.1.1-2.1build1).\n",
            "0 upgraded, 0 newly installed, 0 to remove and 49 not upgraded.\n",
            "Requirement already satisfied: pytesseract in /usr/local/lib/python3.10/dist-packages (0.3.13)\n",
            "Requirement already satisfied: easyocr in /usr/local/lib/python3.10/dist-packages (1.7.2)\n",
            "Requirement already satisfied: shapely in /usr/local/lib/python3.10/dist-packages (2.0.6)\n",
            "Requirement already satisfied: pandas in /usr/local/lib/python3.10/dist-packages (2.2.2)\n",
            "Requirement already satisfied: opencv-python-headless in /usr/local/lib/python3.10/dist-packages (4.10.0.84)\n",
            "Requirement already satisfied: pillow in /usr/local/lib/python3.10/dist-packages (11.0.0)\n",
            "Requirement already satisfied: packaging>=21.3 in /usr/local/lib/python3.10/dist-packages (from pytesseract) (24.2)\n",
            "Requirement already satisfied: torch in /usr/local/lib/python3.10/dist-packages (from easyocr) (2.5.1+cu121)\n",
            "Requirement already satisfied: torchvision>=0.5 in /usr/local/lib/python3.10/dist-packages (from easyocr) (0.20.1+cu121)\n",
            "Requirement already satisfied: scipy in /usr/local/lib/python3.10/dist-packages (from easyocr) (1.13.1)\n",
            "Requirement already satisfied: numpy in /usr/local/lib/python3.10/dist-packages (from easyocr) (1.26.4)\n",
            "Requirement already satisfied: scikit-image in /usr/local/lib/python3.10/dist-packages (from easyocr) (0.24.0)\n",
            "Requirement already satisfied: python-bidi in /usr/local/lib/python3.10/dist-packages (from easyocr) (0.6.3)\n",
            "Requirement already satisfied: PyYAML in /usr/local/lib/python3.10/dist-packages (from easyocr) (6.0.2)\n",
            "Requirement already satisfied: pyclipper in /usr/local/lib/python3.10/dist-packages (from easyocr) (1.3.0.post6)\n",
            "Requirement already satisfied: ninja in /usr/local/lib/python3.10/dist-packages (from easyocr) (1.11.1.2)\n",
            "Requirement already satisfied: python-dateutil>=2.8.2 in /usr/local/lib/python3.10/dist-packages (from pandas) (2.8.2)\n",
            "Requirement already satisfied: pytz>=2020.1 in /usr/local/lib/python3.10/dist-packages (from pandas) (2024.2)\n",
            "Requirement already satisfied: tzdata>=2022.7 in /usr/local/lib/python3.10/dist-packages (from pandas) (2024.2)\n",
            "Requirement already satisfied: six>=1.5 in /usr/local/lib/python3.10/dist-packages (from python-dateutil>=2.8.2->pandas) (1.16.0)\n",
            "Requirement already satisfied: filelock in /usr/local/lib/python3.10/dist-packages (from torch->easyocr) (3.16.1)\n",
            "Requirement already satisfied: typing-extensions>=4.8.0 in /usr/local/lib/python3.10/dist-packages (from torch->easyocr) (4.12.2)\n",
            "Requirement already satisfied: networkx in /usr/local/lib/python3.10/dist-packages (from torch->easyocr) (3.4.2)\n",
            "Requirement already satisfied: jinja2 in /usr/local/lib/python3.10/dist-packages (from torch->easyocr) (3.1.4)\n",
            "Requirement already satisfied: fsspec in /usr/local/lib/python3.10/dist-packages (from torch->easyocr) (2024.10.0)\n",
            "Requirement already satisfied: sympy==1.13.1 in /usr/local/lib/python3.10/dist-packages (from torch->easyocr) (1.13.1)\n",
            "Requirement already satisfied: mpmath<1.4,>=1.1.0 in /usr/local/lib/python3.10/dist-packages (from sympy==1.13.1->torch->easyocr) (1.3.0)\n",
            "Requirement already satisfied: imageio>=2.33 in /usr/local/lib/python3.10/dist-packages (from scikit-image->easyocr) (2.36.1)\n",
            "Requirement already satisfied: tifffile>=2022.8.12 in /usr/local/lib/python3.10/dist-packages (from scikit-image->easyocr) (2024.9.20)\n",
            "Requirement already satisfied: lazy-loader>=0.4 in /usr/local/lib/python3.10/dist-packages (from scikit-image->easyocr) (0.4)\n",
            "Requirement already satisfied: MarkupSafe>=2.0 in /usr/local/lib/python3.10/dist-packages (from jinja2->torch->easyocr) (3.0.2)\n"
          ]
        }
      ],
      "source": [
        "# Step 1: Install and Import Required Libraries\n",
        "!sudo apt-get install -y tesseract-ocr\n",
        "!pip install pytesseract easyocr shapely pandas opencv-python-headless pillow"
      ]
    },
    {
      "cell_type": "code",
      "execution_count": null,
      "metadata": {
        "colab": {
          "base_uri": "https://localhost:8080/"
        },
        "id": "lx6MVU3RZp4a",
        "outputId": "fdddd995-33f9-443a-ce94-eb8b80807ce8"
      },
      "outputs": [
        {
          "output_type": "stream",
          "name": "stdout",
          "text": [
            "Requirement already satisfied: jax in /usr/local/lib/python3.10/dist-packages (0.4.37)\n",
            "Requirement already satisfied: jaxlib in /usr/local/lib/python3.10/dist-packages (0.4.36)\n",
            "Requirement already satisfied: ml_dtypes>=0.4.0 in /usr/local/lib/python3.10/dist-packages (from jax) (0.4.1)\n",
            "Requirement already satisfied: numpy>=1.24 in /usr/local/lib/python3.10/dist-packages (from jax) (1.26.4)\n",
            "Requirement already satisfied: opt_einsum in /usr/local/lib/python3.10/dist-packages (from jax) (3.4.0)\n",
            "Requirement already satisfied: scipy>=1.10 in /usr/local/lib/python3.10/dist-packages (from jax) (1.13.1)\n"
          ]
        }
      ],
      "source": [
        "pip install --upgrade jax jaxlib\n"
      ]
    },
    {
      "cell_type": "code",
      "execution_count": null,
      "metadata": {
        "id": "emyi_XxIQcuV",
        "colab": {
          "base_uri": "https://localhost:8080/"
        },
        "outputId": "6a8744a5-9446-4493-f1c6-691cf2939f96"
      },
      "outputs": [
        {
          "output_type": "stream",
          "name": "stderr",
          "text": [
            "Some weights of ViTForImageClassification were not initialized from the model checkpoint at google/vit-base-patch16-224 and are newly initialized because the shapes did not match:\n",
            "- classifier.bias: found shape torch.Size([1000]) in the checkpoint and torch.Size([3]) in the model instantiated\n",
            "- classifier.weight: found shape torch.Size([1000, 768]) in the checkpoint and torch.Size([3, 768]) in the model instantiated\n",
            "You should probably TRAIN this model on a down-stream task to be able to use it for predictions and inference.\n"
          ]
        },
        {
          "output_type": "stream",
          "name": "stdout",
          "text": [
            "Model loaded and ready for inference.\n"
          ]
        }
      ],
      "source": [
        "from flask import Flask, request, jsonify\n",
        "import torch\n",
        "from transformers import ViTForImageClassification, ViTFeatureExtractor\n",
        "from ultralytics import YOLO\n",
        "import cv2\n",
        "import easyocr\n",
        "import pytesseract\n",
        "import re\n",
        "from PIL import Image\n",
        "import io\n",
        "from shapely.geometry import Point, Polygon\n",
        "import numpy as np\n",
        "\n",
        "# Flask 앱 초기화\n",
        "app = Flask(__name__)\n",
        "\n",
        "# 디바이스 설정\n",
        "device = torch.device(\"cuda\" if torch.cuda.is_available() else \"cpu\")\n",
        "\n",
        "# 모델 1: Vision Transformer (ViT)\n",
        "vit_model_path = \"/content/best_vit_model_final.pth\"\n",
        "\n",
        "# 모델 아키텍처 초기화\n",
        "vit_model = ViTForImageClassification.from_pretrained(\n",
        "    \"google/vit-base-patch16-224\",\n",
        "    num_labels=3,  # 저장된 모델의 클래스 수\n",
        "    ignore_mismatched_sizes=True\n",
        ")\n",
        "\n",
        "# 저장된 가중치 로드\n",
        "vit_model.load_state_dict(torch.load(vit_model_path, map_location=device), strict=True)\n",
        "vit_model.to(device)\n",
        "vit_model.eval()\n",
        "\n",
        "print(\"Model loaded and ready for inference.\")\n",
        "\n",
        "vit_feature_extractor = ViTFeatureExtractor.from_pretrained(\"google/vit-base-patch16-224\")\n",
        "vit_labels = [\"drift\", \"fish\", \"move\"]\n",
        "\n",
        "# 모델 2: Object Detection (YOLOv11)\n",
        "objdet_model_path = \"/content/ver5_yolov11_refined_best.pt\"\n",
        "objdet_model = YOLO(objdet_model_path)\n",
        "\n",
        "# 모델 3: OCR 관련 설정\n",
        "easyocr_reader = easyocr.Reader(['en'])\n",
        "boundary_points = [\n",
        "    (125 + 25 / 60, 32 + 11 / 60),\n",
        "    (124 + 8 / 60, 33 + 20 / 60),\n",
        "    (124 + 0 / 60 + 30 / 3600, 34),\n",
        "    (124 + 7 / 60 + 30 / 3600, 35),\n",
        "    (124 + 30 / 60, 35 + 30 / 60),\n",
        "    (124 + 30 / 60, 36 + 45 / 60),\n",
        "    (124 + 20 / 60, 37),\n",
        "    (126 + 45 / 60, 32 + 11 / 60)\n",
        "]\n",
        "boundary_polygon = Polygon(boundary_points)\n",
        "\n",
        "def classify_vessel_position(longitude, latitude):\n",
        "    vessel_point = Point(longitude, latitude)\n",
        "    return \"허가\" if boundary_polygon.contains(vessel_point) else \"불법\"\n",
        "\n",
        "def extract_coordinates(image):\n",
        "    height, width = image.shape[:2]\n",
        "    crop_height_ratio = 0.04\n",
        "    image = image[int(height * (1 - crop_height_ratio)):height, 0:int(width * 0.5)]\n",
        "    gray = cv2.cvtColor(image, cv2.COLOR_BGR2GRAY)\n",
        "    easyocr_result = easyocr_reader.readtext(gray, detail=0)\n",
        "    tesseract_result = pytesseract.image_to_string(gray, config=\"--psm 6\")\n",
        "    combined_text = \" \".join(easyocr_result) + \" \" + tesseract_result\n",
        "    cleaned_text = combined_text.replace(\",\", \".\")\n",
        "    lat_pattern = r\"N\\s*(\\d{1,2})°\\s*(\\d{1,2}\\.\\d+)\"\n",
        "    lon_pattern = r\"E\\s*(\\d{1,3})°\\s*(\\d{1,2}\\.\\d+)\"\n",
        "    lat_match = re.search(lat_pattern, cleaned_text)\n",
        "    lon_match = re.search(lon_pattern, cleaned_text)\n",
        "    if lat_match and lon_match:\n",
        "        latitude = int(lat_match.group(1)) + float(lat_match.group(2)) / 60\n",
        "        longitude = int(lon_match.group(1)) + float(lon_match.group(2)) / 60\n",
        "        return latitude, longitude\n",
        "    return None, None\n",
        "\n",
        "# 통합된 엔드포인트\n",
        "@app.route('/predict_all', methods=['POST'])\n",
        "def predict_all():\n",
        "    try:\n",
        "        file = request.files['file']\n",
        "        image_data = file.read()\n",
        "\n",
        "        # Load image for all models\n",
        "        image_vit = Image.open(io.BytesIO(image_data)).convert(\"RGB\")\n",
        "        image_cv = cv2.imdecode(np.frombuffer(image_data, np.uint8), cv2.IMREAD_COLOR)\n",
        "        image_path = \"/content/temp_image.jpg\"\n",
        "        image_vit.save(image_path)\n",
        "\n",
        "        # Vision Transformer Prediction\n",
        "        inputs = vit_feature_extractor(images=image_vit, return_tensors=\"pt\").to(device)\n",
        "        with torch.no_grad():\n",
        "            vit_outputs = vit_model(**inputs)\n",
        "            vit_probs = torch.softmax(vit_outputs.logits, dim=-1).cpu().numpy()[0]\n",
        "        vit_result = {vit_labels[i]: float(vit_probs[i]) for i in range(len(vit_labels))}\n",
        "\n",
        "        # Object Detection Prediction\n",
        "        yolo_results = objdet_model.predict(source=image_path)\n",
        "        yolo_predictions = [\n",
        "            {\n",
        "                \"class\": int(box.cls.cpu().item()),\n",
        "                \"confidence\": float(box.conf.cpu().item()),\n",
        "                \"bbox\": [float(coord) for coord in box.xyxy.cpu().tolist()[0]]\n",
        "            }\n",
        "            for box in yolo_results[0].boxes\n",
        "        ]\n",
        "\n",
        "        # OCR Prediction and Coordinate Classification\n",
        "        latitude, longitude = extract_coordinates(image_cv)\n",
        "        if latitude is not None and longitude is not None:\n",
        "            classification = classify_vessel_position(longitude, latitude)\n",
        "            ocr_result = {\n",
        "                \"latitude\": latitude,\n",
        "                \"longitude\": longitude,\n",
        "                \"classification\": classification\n",
        "            }\n",
        "        else:\n",
        "            ocr_result = {\"Coordinates not found\"}\n",
        "\n",
        "        # Combine results\n",
        "        combined_result = {\n",
        "            \"vit_prediction\": vit_result,\n",
        "            \"object_detection\": yolo_predictions,\n",
        "            \"ocr_and_classification\": ocr_result\n",
        "        }\n",
        "        return jsonify(combined_result)\n",
        "    except Exception as e:\n",
        "        return jsonify({\"error\": str(e)})"
      ]
    },
    {
      "cell_type": "code",
      "execution_count": null,
      "metadata": {
        "id": "T9lIu36hQvYR",
        "colab": {
          "base_uri": "https://localhost:8080/"
        },
        "outputId": "79301601-4ff1-4e1c-b42e-2ea735ab06ed"
      },
      "outputs": [
        {
          "output_type": "stream",
          "name": "stdout",
          "text": [
            " * Serving Flask app '__main__'\n"
          ]
        }
      ],
      "source": [
        "# Flask 서버를 백그라운드에서 실행하기 위한 threading\n",
        "import threading\n",
        "\n",
        "def run_flask():\n",
        "    app.run(port=5000)\n",
        "\n",
        "# Flask를 백그라운드에서 실행\n",
        "flask_thread = threading.Thread(target=run_flask)\n",
        "flask_thread.start()\n"
      ]
    },
    {
      "cell_type": "code",
      "execution_count": null,
      "metadata": {
        "id": "DgGCe_6TQ01m",
        "colab": {
          "base_uri": "https://localhost:8080/"
        },
        "outputId": "5d1edb1f-3bf1-4578-e779-498b14ec5ba7"
      },
      "outputs": [
        {
          "output_type": "stream",
          "name": "stdout",
          "text": [
            " * Debug mode: off\n",
            "Authtoken saved to configuration file: /root/.config/ngrok/ngrok.yml\n"
          ]
        },
        {
          "output_type": "stream",
          "name": "stderr",
          "text": [
            "Address already in use\n",
            "Port 5000 is in use by another program. Either identify and stop that program, or start the server with a different port.\n"
          ]
        }
      ],
      "source": [
        "!./ngrok config add-authtoken 2pgsaQ2Njsutr07XVkP2GYDlQ17_g4KMiSqYER9oMRcyLZo7\n"
      ]
    },
    {
      "cell_type": "code",
      "execution_count": null,
      "metadata": {
        "id": "IVxdYqwXQ1ya"
      },
      "outputs": [],
      "source": [
        "!nohup ./ngrok http 5000 > /dev/null 2>&1 &\n",
        "\n"
      ]
    },
    {
      "cell_type": "code",
      "execution_count": null,
      "metadata": {
        "id": "8YprmAz8Q3ho",
        "colab": {
          "base_uri": "https://localhost:8080/"
        },
        "outputId": "376d4cbe-88ba-4ab7-f660-c5bf6c521b8e"
      },
      "outputs": [
        {
          "output_type": "stream",
          "name": "stdout",
          "text": [
            "ngrok Public URL: https://edeb-34-83-211-224.ngrok-free.app\n"
          ]
        }
      ],
      "source": [
        "import time\n",
        "import requests\n",
        "\n",
        "# ngrok가 실행될 때까지 잠시 대기\n",
        "time.sleep(2)\n",
        "\n",
        "# ngrok의 Public URL 가져오기\n",
        "response = requests.get(\"http://localhost:4040/api/tunnels\")\n",
        "data = response.json()\n",
        "public_url = data['tunnels'][0]['public_url']\n",
        "print(f\"ngrok Public URL: {public_url}\")\n"
      ]
    },
    {
      "cell_type": "code",
      "execution_count": null,
      "metadata": {
        "id": "7MgforV6Q4vv",
        "colab": {
          "base_uri": "https://localhost:8080/"
        },
        "outputId": "e37d2cf6-70a2-4a09-a8d9-2b74f760dca0"
      },
      "outputs": [
        {
          "output_type": "stream",
          "name": "stdout",
          "text": [
            "root        7990  0.0  0.0   7376  3460 ?        S    02:19   0:00 /bin/bash -c ps aux | grep flask\n",
            "root        7992  0.0  0.0   6484  2280 ?        S    02:19   0:00 grep flask\n",
            "root        5193  0.2  0.3 1273652 41880 ?       Sl   02:09   0:01 ./ngrok http 5000\n",
            "root        7993  0.0  0.0   7376  3496 ?        S    02:19   0:00 /bin/bash -c ps aux | grep ngrok\n",
            "root        7995  0.0  0.0   7376   280 ?        R    02:19   0:00 /bin/bash -c ps aux | grep ngrok\n"
          ]
        }
      ],
      "source": [
        "!ps aux | grep flask\n",
        "!ps aux | grep ngrok\n"
      ]
    },
    {
      "cell_type": "code",
      "execution_count": null,
      "metadata": {
        "id": "Jd4CawetVAZJ"
      },
      "outputs": [],
      "source": []
    }
  ],
  "metadata": {
    "accelerator": "GPU",
    "colab": {
      "gpuType": "T4",
      "provenance": []
    },
    "kernelspec": {
      "display_name": "Python 3",
      "name": "python3"
    },
    "language_info": {
      "name": "python"
    }
  },
  "nbformat": 4,
  "nbformat_minor": 0
}